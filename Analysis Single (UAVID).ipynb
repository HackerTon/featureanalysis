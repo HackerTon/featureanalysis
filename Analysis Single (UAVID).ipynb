{
 "cells": [
  {
   "cell_type": "code",
   "execution_count": 1,
   "metadata": {},
   "outputs": [],
   "source": [
    "import matplotlib.pyplot as plt\n",
    "import seaborn as sb\n",
    "import pandas as pd\n",
    "import numpy as np"
   ]
  },
  {
   "cell_type": "code",
   "execution_count": 2,
   "metadata": {},
   "outputs": [
    {
     "data": {
      "text/html": [
       "<div>\n",
       "<style scoped>\n",
       "    .dataframe tbody tr th:only-of-type {\n",
       "        vertical-align: middle;\n",
       "    }\n",
       "\n",
       "    .dataframe tbody tr th {\n",
       "        vertical-align: top;\n",
       "    }\n",
       "\n",
       "    .dataframe thead th {\n",
       "        text-align: right;\n",
       "    }\n",
       "</style>\n",
       "<table border=\"1\" class=\"dataframe\">\n",
       "  <thead>\n",
       "    <tr style=\"text-align: right;\">\n",
       "      <th></th>\n",
       "      <th>trainc1</th>\n",
       "      <th>trainc2</th>\n",
       "      <th>trainc3</th>\n",
       "      <th>trainc4</th>\n",
       "      <th>trainc5</th>\n",
       "      <th>trainc6</th>\n",
       "      <th>trainc7</th>\n",
       "      <th>trainc8</th>\n",
       "      <th>testc1</th>\n",
       "      <th>testc2</th>\n",
       "      <th>testc3</th>\n",
       "      <th>testc4</th>\n",
       "      <th>testc5</th>\n",
       "      <th>testc6</th>\n",
       "      <th>testc7</th>\n",
       "      <th>testc8</th>\n",
       "      <th>model</th>\n",
       "    </tr>\n",
       "  </thead>\n",
       "  <tbody>\n",
       "    <tr>\n",
       "      <th>0</th>\n",
       "      <td>0.342284</td>\n",
       "      <td>0.482713</td>\n",
       "      <td>0.534252</td>\n",
       "      <td>0.488004</td>\n",
       "      <td>0.162108</td>\n",
       "      <td>0.024922</td>\n",
       "      <td>0.021108</td>\n",
       "      <td>0.000905</td>\n",
       "      <td>0.296177</td>\n",
       "      <td>0.538397</td>\n",
       "      <td>0.47766</td>\n",
       "      <td>0.472319</td>\n",
       "      <td>0.158344</td>\n",
       "      <td>0.020946</td>\n",
       "      <td>0.019576</td>\n",
       "      <td>0.001154</td>\n",
       "      <td>fcn8s</td>\n",
       "    </tr>\n",
       "  </tbody>\n",
       "</table>\n",
       "</div>"
      ],
      "text/plain": [
       "    trainc1   trainc2   trainc3   trainc4   trainc5   trainc6   trainc7  \\\n",
       "0  0.342284  0.482713  0.534252  0.488004  0.162108  0.024922  0.021108   \n",
       "\n",
       "    trainc8    testc1    testc2   testc3    testc4    testc5    testc6  \\\n",
       "0  0.000905  0.296177  0.538397  0.47766  0.472319  0.158344  0.020946   \n",
       "\n",
       "     testc7    testc8  model  \n",
       "0  0.019576  0.001154  fcn8s  "
      ]
     },
     "execution_count": 2,
     "metadata": {},
     "output_type": "execute_result"
    }
   ],
   "source": [
    "fcn8s_pd = pd.read_csv('results_fcn8s.csv')\n",
    "fcn8s_pd"
   ]
  },
  {
   "cell_type": "code",
   "execution_count": 3,
   "metadata": {},
   "outputs": [
    {
     "data": {
      "text/html": [
       "<div>\n",
       "<style scoped>\n",
       "    .dataframe tbody tr th:only-of-type {\n",
       "        vertical-align: middle;\n",
       "    }\n",
       "\n",
       "    .dataframe tbody tr th {\n",
       "        vertical-align: top;\n",
       "    }\n",
       "\n",
       "    .dataframe thead th {\n",
       "        text-align: right;\n",
       "    }\n",
       "</style>\n",
       "<table border=\"1\" class=\"dataframe\">\n",
       "  <thead>\n",
       "    <tr style=\"text-align: right;\">\n",
       "      <th></th>\n",
       "      <th>trainc1</th>\n",
       "      <th>trainc2</th>\n",
       "      <th>trainc3</th>\n",
       "      <th>trainc4</th>\n",
       "      <th>trainc5</th>\n",
       "      <th>trainc6</th>\n",
       "      <th>trainc7</th>\n",
       "      <th>trainc8</th>\n",
       "      <th>testc1</th>\n",
       "      <th>testc2</th>\n",
       "      <th>testc3</th>\n",
       "      <th>testc4</th>\n",
       "      <th>testc5</th>\n",
       "      <th>testc6</th>\n",
       "      <th>testc7</th>\n",
       "      <th>testc8</th>\n",
       "      <th>model</th>\n",
       "    </tr>\n",
       "  </thead>\n",
       "  <tbody>\n",
       "    <tr>\n",
       "      <th>0</th>\n",
       "      <td>0.643695</td>\n",
       "      <td>0.737693</td>\n",
       "      <td>0.756532</td>\n",
       "      <td>0.766281</td>\n",
       "      <td>0.609184</td>\n",
       "      <td>0.528928</td>\n",
       "      <td>0.502179</td>\n",
       "      <td>0.375862</td>\n",
       "      <td>0.51602</td>\n",
       "      <td>0.777568</td>\n",
       "      <td>0.656031</td>\n",
       "      <td>0.69944</td>\n",
       "      <td>0.494889</td>\n",
       "      <td>0.368847</td>\n",
       "      <td>0.396739</td>\n",
       "      <td>0.241798</td>\n",
       "      <td>fpn</td>\n",
       "    </tr>\n",
       "  </tbody>\n",
       "</table>\n",
       "</div>"
      ],
      "text/plain": [
       "    trainc1   trainc2   trainc3   trainc4   trainc5   trainc6   trainc7  \\\n",
       "0  0.643695  0.737693  0.756532  0.766281  0.609184  0.528928  0.502179   \n",
       "\n",
       "    trainc8   testc1    testc2    testc3   testc4    testc5    testc6  \\\n",
       "0  0.375862  0.51602  0.777568  0.656031  0.69944  0.494889  0.368847   \n",
       "\n",
       "     testc7    testc8 model  \n",
       "0  0.396739  0.241798   fpn  "
      ]
     },
     "execution_count": 3,
     "metadata": {},
     "output_type": "execute_result"
    }
   ],
   "source": [
    "fpn_pd = pd.read_csv('results_fpn.csv')\n",
    "fpn_pd"
   ]
  },
  {
   "cell_type": "code",
   "execution_count": 4,
   "metadata": {},
   "outputs": [
    {
     "data": {
      "text/html": [
       "<div>\n",
       "<style scoped>\n",
       "    .dataframe tbody tr th:only-of-type {\n",
       "        vertical-align: middle;\n",
       "    }\n",
       "\n",
       "    .dataframe tbody tr th {\n",
       "        vertical-align: top;\n",
       "    }\n",
       "\n",
       "    .dataframe thead th {\n",
       "        text-align: right;\n",
       "    }\n",
       "</style>\n",
       "<table border=\"1\" class=\"dataframe\">\n",
       "  <thead>\n",
       "    <tr style=\"text-align: right;\">\n",
       "      <th></th>\n",
       "      <th>trainc1</th>\n",
       "      <th>trainc2</th>\n",
       "      <th>trainc3</th>\n",
       "      <th>trainc4</th>\n",
       "      <th>trainc5</th>\n",
       "      <th>trainc6</th>\n",
       "      <th>trainc7</th>\n",
       "      <th>trainc8</th>\n",
       "      <th>testc1</th>\n",
       "      <th>testc2</th>\n",
       "      <th>testc3</th>\n",
       "      <th>testc4</th>\n",
       "      <th>testc5</th>\n",
       "      <th>testc6</th>\n",
       "      <th>testc7</th>\n",
       "      <th>testc8</th>\n",
       "      <th>model</th>\n",
       "    </tr>\n",
       "  </thead>\n",
       "  <tbody>\n",
       "    <tr>\n",
       "      <th>0</th>\n",
       "      <td>0.559228</td>\n",
       "      <td>0.693155</td>\n",
       "      <td>0.713333</td>\n",
       "      <td>0.708073</td>\n",
       "      <td>0.528504</td>\n",
       "      <td>0.473093</td>\n",
       "      <td>0.446189</td>\n",
       "      <td>0.220065</td>\n",
       "      <td>0.421449</td>\n",
       "      <td>0.698717</td>\n",
       "      <td>0.589297</td>\n",
       "      <td>0.632687</td>\n",
       "      <td>0.397078</td>\n",
       "      <td>0.337023</td>\n",
       "      <td>0.334899</td>\n",
       "      <td>0.139754</td>\n",
       "      <td>unet</td>\n",
       "    </tr>\n",
       "  </tbody>\n",
       "</table>\n",
       "</div>"
      ],
      "text/plain": [
       "    trainc1   trainc2   trainc3   trainc4   trainc5   trainc6   trainc7  \\\n",
       "0  0.559228  0.693155  0.713333  0.708073  0.528504  0.473093  0.446189   \n",
       "\n",
       "    trainc8    testc1    testc2    testc3    testc4    testc5    testc6  \\\n",
       "0  0.220065  0.421449  0.698717  0.589297  0.632687  0.397078  0.337023   \n",
       "\n",
       "     testc7    testc8 model  \n",
       "0  0.334899  0.139754  unet  "
      ]
     },
     "execution_count": 4,
     "metadata": {},
     "output_type": "execute_result"
    }
   ],
   "source": [
    "unet_pd = pd.read_csv('results_unet.csv')\n",
    "unet_pd"
   ]
  },
  {
   "cell_type": "code",
   "execution_count": 27,
   "metadata": {},
   "outputs": [],
   "source": [
    "results_all = pd.concat([fpn_pd, fcn8s_pd, unet_pd])\n",
    "\n",
    "results_all.to_csv('results.csv')"
   ]
  },
  {
   "cell_type": "code",
   "execution_count": 28,
   "metadata": {},
   "outputs": [
    {
     "data": {
      "image/png": "[encoded data removed]",
      "text/plain": [
       "<Figure size 1080x504 with 1 Axes>"
      ]
     },
     "metadata": {
      "needs_background": "light"
     },
     "output_type": "display_data"
    }
   ],
   "source": [
    "fg, ax = plt.subplots(figsize=(15, 7))\n",
    "sb.barplot(data=results_all.melt(id_vars='model').drop_duplicates(), y='value', x='variable', hue='model', ax=ax)\n",
    "ax.set_xlabel('class')\n",
    "ax.set_ylabel('IoU')\n",
    "ax.grid()"
   ]
  },
  {
   "cell_type": "code",
   "execution_count": 29,
   "metadata": {},
   "outputs": [
    {
     "data": {
      "image/png": "[encoded data removed]",
      "text/plain": [
       "<Figure size 1080x504 with 1 Axes>"
      ]
     },
     "metadata": {
      "needs_background": "light"
     },
     "output_type": "display_data"
    }
   ],
   "source": [
    "mean_results = results_all.copy()\n",
    "mean_results['mean_train'] = results_all.iloc[:,2:10].mean(axis=1)\n",
    "mean_results['mean_test'] = results_all.iloc[:,10:].mean(axis=1)\n",
    "mean_results = mean_results[['mean_train', 'mean_test', 'model']]\n",
    "\n",
    "fg, ax = plt.subplots(figsize=(15, 7))\n",
    "sb.barplot(data=mean_results.melt(id_vars='model').drop_duplicates(), y='value', x='variable', hue='model', ax=ax)\n",
    "# ax.set_xlabel('class')\n",
    "ax.set_ylabel('IoU')\n",
    "ax.grid()"
   ]
  },
  {
   "cell_type": "code",
   "execution_count": 30,
   "metadata": {},
   "outputs": [
    {
     "data": {
      "text/html": [
       "<div>\n",
       "<style scoped>\n",
       "    .dataframe tbody tr th:only-of-type {\n",
       "        vertical-align: middle;\n",
       "    }\n",
       "\n",
       "    .dataframe tbody tr th {\n",
       "        vertical-align: top;\n",
       "    }\n",
       "\n",
       "    .dataframe thead th {\n",
       "        text-align: right;\n",
       "    }\n",
       "</style>\n",
       "<table border=\"1\" class=\"dataframe\">\n",
       "  <thead>\n",
       "    <tr style=\"text-align: right;\">\n",
       "      <th></th>\n",
       "      <th>mean_train</th>\n",
       "      <th>mean_test</th>\n",
       "      <th>model</th>\n",
       "    </tr>\n",
       "  </thead>\n",
       "  <tbody>\n",
       "    <tr>\n",
       "      <th>0</th>\n",
       "      <td>0.604069</td>\n",
       "      <td>0.476291</td>\n",
       "      <td>fpn</td>\n",
       "    </tr>\n",
       "    <tr>\n",
       "      <th>0</th>\n",
       "      <td>0.258234</td>\n",
       "      <td>0.191666</td>\n",
       "      <td>fcn8s</td>\n",
       "    </tr>\n",
       "    <tr>\n",
       "      <th>0</th>\n",
       "      <td>0.526178</td>\n",
       "      <td>0.405123</td>\n",
       "      <td>unet</td>\n",
       "    </tr>\n",
       "  </tbody>\n",
       "</table>\n",
       "</div>"
      ],
      "text/plain": [
       "   mean_train  mean_test  model\n",
       "0    0.604069   0.476291    fpn\n",
       "0    0.258234   0.191666  fcn8s\n",
       "0    0.526178   0.405123   unet"
      ]
     },
     "execution_count": 30,
     "metadata": {},
     "output_type": "execute_result"
    }
   ],
   "source": [
    "mean_results"
   ]
  }
 ],
 "metadata": {
  "interpreter": {
   "hash": "0beed873570eadf18b27de988f74387134654fe26ad0c1ed6b53170102862c4b"
  },
  "kernelspec": {
   "display_name": "Python 3.8.10 64-bit ('tf21': conda)",
   "name": "python3"
  },
  "language_info": {
   "codemirror_mode": {
    "name": "ipython",
    "version": 3
   },
   "file_extension": ".py",
   "mimetype": "text/x-python",
   "name": "python",
   "nbconvert_exporter": "python",
   "pygments_lexer": "ipython3",
   "version": "3.8.10"
  },
  "orig_nbformat": 4
 },
 "nbformat": 4,
 "nbformat_minor": 2
}

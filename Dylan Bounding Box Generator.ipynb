{
 "cells": [
  {
   "cell_type": "code",
   "execution_count": 12,
   "metadata": {},
   "outputs": [],
   "source": [
    "import numpy as np\n",
    "import cv2 as cv\n",
    "import matplotlib.pyplot as plt\n",
    "im = cv.imread('/home/hackerton/Downloads/Airbus + Seagull Dataset/trainmask/0a1a58833.jpg')\n",
    "imgray = cv.cvtColor(im, cv.COLOR_BGR2GRAY)\n",
    "ret, thresh = cv.threshold(imgray, 127, 255, 0)\n",
    "contours, hierarchy = cv.findContours(thresh, cv.RETR_TREE, cv.CHAIN_APPROX_SIMPLE)"
   ]
  },
  {
   "cell_type": "code",
   "execution_count": 13,
   "metadata": {},
   "outputs": [],
   "source": [
    "# from dict2xml import dict2xml\n",
    "\n",
    "# x, y, w, h = cv.boundingRect(contours[0])\n",
    "# data = {\"bouding\": {\"x\": x, \"y\": y, \"w\": w, \"h\": h}}\n",
    "# xml = dict2xml(data)\n",
    "# print(xml)\n",
    "\n",
    "# with open(\"abc.xml\", \"w\") as file:\n",
    "#     file.write(xml)\n"
   ]
  },
  {
   "cell_type": "code",
   "execution_count": 19,
   "metadata": {},
   "outputs": [
    {
     "data": {
      "text/plain": [
       "<matplotlib.image.AxesImage at 0x7fb625702e90>"
      ]
     },
     "execution_count": 19,
     "metadata": {},
     "output_type": "execute_result"
    },
    {
     "data": {
      "image/png": "[encoded data removed]",
      "text/plain": [
       "<Figure size 432x288 with 1 Axes>"
      ]
     },
     "metadata": {
      "needs_background": "light"
     },
     "output_type": "display_data"
    }
   ],
   "source": [
    "x, y, w, h = cv.boundingRect(contours[0])\n",
    "ac = cv.dilate(im.copy(), np.ones((2, 2), np.uint8))\n",
    "\n",
    "output = cv.rectangle(ac, (x, y), (x+w, y+h), (0, 255, 0), 2)\n",
    "plt.imshow(output)"
   ]
  }
 ],
 "metadata": {
  "interpreter": {
   "hash": "8f83774e3b42381a1fc21d7d48b4fb670a1e71d23b1862e1d8458b0c7df5953c"
  },
  "kernelspec": {
   "display_name": "Python 3.7.6 64-bit ('imageai': conda)",
   "name": "python3"
  },
  "language_info": {
   "codemirror_mode": {
    "name": "ipython",
    "version": 3
   },
   "file_extension": ".py",
   "mimetype": "text/x-python",
   "name": "python",
   "nbconvert_exporter": "python",
   "pygments_lexer": "ipython3",
   "version": "3.7.6"
  },
  "orig_nbformat": 4
 },
 "nbformat": 4,
 "nbformat_minor": 2
}
